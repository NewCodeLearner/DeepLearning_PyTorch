{
  "nbformat": 4,
  "nbformat_minor": 0,
  "metadata": {
    "colab": {
      "provenance": [],
      "gpuType": "T4",
      "authorship_tag": "ABX9TyPQGimaPJLqdtAj6W9BtLLy",
      "include_colab_link": true
    },
    "kernelspec": {
      "name": "python3",
      "display_name": "Python 3"
    },
    "language_info": {
      "name": "python"
    },
    "accelerator": "GPU"
  },
  "cells": [
    {
      "cell_type": "markdown",
      "metadata": {
        "id": "view-in-github",
        "colab_type": "text"
      },
      "source": [
        "<a href=\"https://colab.research.google.com/github/NewCodeLearner/DeepLearning_PyTorch/blob/main/ConvolutionalNeuralNetwork.ipynb\" target=\"_parent\"><img src=\"https://colab.research.google.com/assets/colab-badge.svg\" alt=\"Open In Colab\"/></a>"
      ]
    },
    {
      "cell_type": "markdown",
      "source": [
        "CNN's are neural networks that are used to classify images.\n",
        "\n",
        "We'll look at the Mnist Dataset and I'll explain a broad overview of how CNN's work.\n",
        "\n",
        "MNIST Dataset comes with 50000 training set and 10000 test images set\n",
        "\n",
        "setosa.io/image for demo of CNN"
      ],
      "metadata": {
        "id": "PVDoj_-gqRLA"
      }
    },
    {
      "cell_type": "markdown",
      "source": [],
      "metadata": {
        "id": "NEnqdTwY4FFH"
      }
    },
    {
      "cell_type": "code",
      "execution_count": null,
      "metadata": {
        "id": "bYyIG3F-p8ly"
      },
      "outputs": [],
      "source": [
        "import torch\n",
        "import torch.nn as nn\n",
        "import torch.nn.functional as F\n",
        "from torch.utils.data import DataLoader\n",
        "from torchvision import datasets,transforms\n",
        "from torchvision.utils import make_grid\n",
        "\n",
        "import numpy as np\n",
        "import pandas as pd\n",
        "from sklearn.metrics import confusion_matrix\n",
        "import matplotlib.pyplot as plt\n",
        "%matplotlib inline"
      ]
    },
    {
      "cell_type": "code",
      "source": [
        "# Convert MNIST image file into Tensor of 4-dimensions (# of images, ht,width,color channel)\n",
        "transform = transforms.ToTensor()"
      ],
      "metadata": {
        "id": "yuqwmRfH4Z2Z"
      },
      "execution_count": null,
      "outputs": []
    },
    {
      "cell_type": "code",
      "source": [
        "#Train data Download and save the MNIST data into local directory\n",
        "train_data = datasets.MNIST(root='/cnn_data',train =True,download=True,transform=transform)"
      ],
      "metadata": {
        "id": "5d04cjXR43jN",
        "colab": {
          "base_uri": "https://localhost:8080/"
        },
        "outputId": "4c76139e-e772-4b16-ff04-07fc2e8adf59"
      },
      "execution_count": null,
      "outputs": [
        {
          "output_type": "stream",
          "name": "stdout",
          "text": [
            "Downloading http://yann.lecun.com/exdb/mnist/train-images-idx3-ubyte.gz\n",
            "Failed to download (trying next):\n",
            "HTTP Error 403: Forbidden\n",
            "\n",
            "Downloading https://ossci-datasets.s3.amazonaws.com/mnist/train-images-idx3-ubyte.gz\n",
            "Downloading https://ossci-datasets.s3.amazonaws.com/mnist/train-images-idx3-ubyte.gz to /cnn_data/MNIST/raw/train-images-idx3-ubyte.gz\n"
          ]
        },
        {
          "output_type": "stream",
          "name": "stderr",
          "text": [
            "100%|██████████| 9912422/9912422 [00:00<00:00, 14214457.79it/s]\n"
          ]
        },
        {
          "output_type": "stream",
          "name": "stdout",
          "text": [
            "Extracting /cnn_data/MNIST/raw/train-images-idx3-ubyte.gz to /cnn_data/MNIST/raw\n",
            "\n",
            "Downloading http://yann.lecun.com/exdb/mnist/train-labels-idx1-ubyte.gz\n",
            "Failed to download (trying next):\n",
            "HTTP Error 403: Forbidden\n",
            "\n",
            "Downloading https://ossci-datasets.s3.amazonaws.com/mnist/train-labels-idx1-ubyte.gz\n",
            "Downloading https://ossci-datasets.s3.amazonaws.com/mnist/train-labels-idx1-ubyte.gz to /cnn_data/MNIST/raw/train-labels-idx1-ubyte.gz\n"
          ]
        },
        {
          "output_type": "stream",
          "name": "stderr",
          "text": [
            "100%|██████████| 28881/28881 [00:00<00:00, 472615.84it/s]\n"
          ]
        },
        {
          "output_type": "stream",
          "name": "stdout",
          "text": [
            "Extracting /cnn_data/MNIST/raw/train-labels-idx1-ubyte.gz to /cnn_data/MNIST/raw\n",
            "\n",
            "Downloading http://yann.lecun.com/exdb/mnist/t10k-images-idx3-ubyte.gz\n",
            "Failed to download (trying next):\n",
            "HTTP Error 403: Forbidden\n",
            "\n",
            "Downloading https://ossci-datasets.s3.amazonaws.com/mnist/t10k-images-idx3-ubyte.gz\n",
            "Downloading https://ossci-datasets.s3.amazonaws.com/mnist/t10k-images-idx3-ubyte.gz to /cnn_data/MNIST/raw/t10k-images-idx3-ubyte.gz\n"
          ]
        },
        {
          "output_type": "stream",
          "name": "stderr",
          "text": [
            "100%|██████████| 1648877/1648877 [00:00<00:00, 4371587.90it/s]\n"
          ]
        },
        {
          "output_type": "stream",
          "name": "stdout",
          "text": [
            "Extracting /cnn_data/MNIST/raw/t10k-images-idx3-ubyte.gz to /cnn_data/MNIST/raw\n",
            "\n",
            "Downloading http://yann.lecun.com/exdb/mnist/t10k-labels-idx1-ubyte.gz\n",
            "Failed to download (trying next):\n",
            "HTTP Error 403: Forbidden\n",
            "\n",
            "Downloading https://ossci-datasets.s3.amazonaws.com/mnist/t10k-labels-idx1-ubyte.gz\n",
            "Downloading https://ossci-datasets.s3.amazonaws.com/mnist/t10k-labels-idx1-ubyte.gz to /cnn_data/MNIST/raw/t10k-labels-idx1-ubyte.gz\n"
          ]
        },
        {
          "output_type": "stream",
          "name": "stderr",
          "text": [
            "100%|██████████| 4542/4542 [00:00<00:00, 4533681.29it/s]"
          ]
        },
        {
          "output_type": "stream",
          "name": "stdout",
          "text": [
            "Extracting /cnn_data/MNIST/raw/t10k-labels-idx1-ubyte.gz to /cnn_data/MNIST/raw\n",
            "\n"
          ]
        },
        {
          "output_type": "stream",
          "name": "stderr",
          "text": [
            "\n"
          ]
        }
      ]
    },
    {
      "cell_type": "code",
      "source": [
        "test_data = datasets.MNIST(root='/cnn_data',train=False,download=True,transform=transform)"
      ],
      "metadata": {
        "id": "_g6hZuiF5RIM"
      },
      "execution_count": null,
      "outputs": []
    },
    {
      "cell_type": "code",
      "source": [
        "train_data"
      ],
      "metadata": {
        "colab": {
          "base_uri": "https://localhost:8080/"
        },
        "id": "OS4w89tn509F",
        "outputId": "3cdd4016-d554-411a-bd09-c3dd4a0246bb"
      },
      "execution_count": null,
      "outputs": [
        {
          "output_type": "execute_result",
          "data": {
            "text/plain": [
              "Dataset MNIST\n",
              "    Number of datapoints: 60000\n",
              "    Root location: /cnn_data\n",
              "    Split: Train\n",
              "    StandardTransform\n",
              "Transform: ToTensor()"
            ]
          },
          "metadata": {},
          "execution_count": 7
        }
      ]
    },
    {
      "cell_type": "code",
      "source": [
        "test_data"
      ],
      "metadata": {
        "colab": {
          "base_uri": "https://localhost:8080/"
        },
        "id": "9HSR_PuI55Y9",
        "outputId": "31e82cef-db8b-4f0a-e304-178ca4dc10f1"
      },
      "execution_count": null,
      "outputs": [
        {
          "output_type": "execute_result",
          "data": {
            "text/plain": [
              "Dataset MNIST\n",
              "    Number of datapoints: 10000\n",
              "    Root location: /cnn_data\n",
              "    Split: Test\n",
              "    StandardTransform\n",
              "Transform: ToTensor()"
            ]
          },
          "metadata": {},
          "execution_count": 8
        }
      ]
    },
    {
      "cell_type": "code",
      "source": [
        "# create a small batch size for images\n",
        "train_loader = DataLoader(train_data,batch_size=10,shuffle=True)\n",
        "test_loader = DataLoader(test_data,batch_size=10,shuffle=False)"
      ],
      "metadata": {
        "id": "2tjong6A7F3p"
      },
      "execution_count": null,
      "outputs": []
    },
    {
      "cell_type": "code",
      "source": [
        "#Define our CNN Model\n",
        "#Describe convolutional layer and what its doing ( 2 Convolutional layers)\n",
        "#this is just an exmaple.\n",
        "conv1= nn.Conv2d(1,6,3,1)  #input size 1,output 6(feature maps),kernel size 3x3 ,stride 1 pixel at a time\n",
        "conv2= nn.Conv2d(6,16,3,1) #6 output becomes input here , 16 output feature maps"
      ],
      "metadata": {
        "id": "30tM_ZFL8Jwc"
      },
      "execution_count": null,
      "outputs": []
    },
    {
      "cell_type": "code",
      "source": [
        "# Grab 1 MNIST image\n",
        "for i,(X_train,y_train) in enumerate(train_data):\n",
        "    break"
      ],
      "metadata": {
        "id": "2A3MITrR8sK2"
      },
      "execution_count": null,
      "outputs": []
    },
    {
      "cell_type": "code",
      "source": [
        "X_train.shape\n",
        "#torch.Size([1, 28, 28]) 1 image of 28x28 size"
      ],
      "metadata": {
        "colab": {
          "base_uri": "https://localhost:8080/"
        },
        "id": "yMCdeSp19kzk",
        "outputId": "3d7b82ad-27c4-4a3b-8884-0743a48f5bc2"
      },
      "execution_count": null,
      "outputs": [
        {
          "output_type": "execute_result",
          "data": {
            "text/plain": [
              "torch.Size([1, 28, 28])"
            ]
          },
          "metadata": {},
          "execution_count": 12
        }
      ]
    },
    {
      "cell_type": "code",
      "source": [
        "x = X_train.view(1,1,28,28) # 1 batch--1image--28x28 pixels"
      ],
      "metadata": {
        "id": "OhYsSizj-LwE"
      },
      "execution_count": null,
      "outputs": []
    },
    {
      "cell_type": "code",
      "source": [
        "# Perform our first convolution\n",
        "x=F.relu(conv1(x)) #rectified linear unit for activation function"
      ],
      "metadata": {
        "id": "rA8E1yXm9seR"
      },
      "execution_count": null,
      "outputs": []
    },
    {
      "cell_type": "code",
      "source": [
        "# 1 single image , 6 the filters we asked for,\n",
        "#26x26 is the image as we dont have padding and mnist data is all in the middle of the image so we are not losing any data but for other projects padding may be needed.\n",
        "x.shape"
      ],
      "metadata": {
        "colab": {
          "base_uri": "https://localhost:8080/"
        },
        "id": "HbkR2E0t-hDf",
        "outputId": "06fb7b3e-c8eb-4e65-c0cd-ce909a5883d0"
      },
      "execution_count": null,
      "outputs": [
        {
          "output_type": "execute_result",
          "data": {
            "text/plain": [
              "torch.Size([1, 6, 26, 26])"
            ]
          },
          "metadata": {},
          "execution_count": 15
        }
      ]
    },
    {
      "cell_type": "code",
      "source": [
        "# pass thru pooling layer\n",
        "x=F.max_pool2d(x,2,2) # 2x2 kernel for pooling stride of 2"
      ],
      "metadata": {
        "id": "mIi05FPN_U4F"
      },
      "execution_count": null,
      "outputs": []
    },
    {
      "cell_type": "code",
      "source": [
        "#as we set kernel 2x2 the image is now 26/2 =13\n",
        "x.shape"
      ],
      "metadata": {
        "colab": {
          "base_uri": "https://localhost:8080/"
        },
        "id": "QSiCK9Sl_d7C",
        "outputId": "6dfff6d0-235c-498d-8641-9d6a8d337e76"
      },
      "execution_count": null,
      "outputs": [
        {
          "output_type": "execute_result",
          "data": {
            "text/plain": [
              "torch.Size([1, 6, 13, 13])"
            ]
          },
          "metadata": {},
          "execution_count": 17
        }
      ]
    },
    {
      "cell_type": "code",
      "source": [
        "#Do our second convolution layer\n",
        "x=F.relu(conv2(x))"
      ],
      "metadata": {
        "id": "BIYWm5Sq_tmN"
      },
      "execution_count": null,
      "outputs": []
    },
    {
      "cell_type": "code",
      "source": [
        "x.shape #again we didnt set padding so we lose 2 pixels around the images edges"
      ],
      "metadata": {
        "colab": {
          "base_uri": "https://localhost:8080/"
        },
        "id": "GCBYQ2fO_-Au",
        "outputId": "7bfa7745-ecfc-4f6d-f23e-9a94bb2f0347"
      },
      "execution_count": null,
      "outputs": [
        {
          "output_type": "execute_result",
          "data": {
            "text/plain": [
              "torch.Size([1, 16, 11, 11])"
            ]
          },
          "metadata": {},
          "execution_count": 19
        }
      ]
    },
    {
      "cell_type": "code",
      "source": [
        "#pooling layer\n",
        "x=F.max_pool2d(x,2,2) #11/2 =5.5 but we have to round down, because we cant invent data to round up"
      ],
      "metadata": {
        "id": "uBMzOFCOAI_B"
      },
      "execution_count": null,
      "outputs": []
    },
    {
      "cell_type": "code",
      "source": [
        "x.shape"
      ],
      "metadata": {
        "colab": {
          "base_uri": "https://localhost:8080/"
        },
        "id": "ABDjftw9MTIS",
        "outputId": "7c77895c-d079-4598-b574-93cebcff08af"
      },
      "execution_count": null,
      "outputs": [
        {
          "output_type": "execute_result",
          "data": {
            "text/plain": [
              "torch.Size([1, 16, 5, 5])"
            ]
          },
          "metadata": {},
          "execution_count": 21
        }
      ]
    },
    {
      "cell_type": "code",
      "source": [
        "# Model Class\n",
        "class ConvolutionalNetwork(nn.Module):\n",
        "    def __init__(self):\n",
        "      super().__init__()\n",
        "      self.conv1=nn.Conv2d(1,6,3,1)\n",
        "      self.conv2=nn.Conv2d(6,16,3,1)\n",
        "      #fully connected layer\n",
        "      self.fc1= nn.Linear(5*5*16,120)\n",
        "      self.fc2= nn.Linear(120,84)\n",
        "      self.fc3= nn.Linear(84,10)\n",
        "\n",
        "    #forward pass\n",
        "    def forward(self,x):\n",
        "      x=F.relu(self.conv1(x))\n",
        "      x=F.max_pool2d(x,2,2)\n",
        "      #second pass\n",
        "      x=F.relu(self.conv2(x))\n",
        "      x=F.max_pool2d(x,2,2)\n",
        "      #re-View to flatten out\n",
        "      x=x.view(-1,5*5*16) # negative one so we can vary the batch size\n",
        "      #Fully connected layers\n",
        "      x=F.relu(self.fc1(x))\n",
        "      x=F.relu(self.fc2(x))\n",
        "      x=self.fc3(x)\n",
        "      return F.log_softmax(x,dim=1)"
      ],
      "metadata": {
        "id": "BSDU4MLYAhTB"
      },
      "execution_count": null,
      "outputs": []
    },
    {
      "cell_type": "code",
      "source": [
        "# create an instance of model\n",
        "torch.manual_seed(41)\n",
        "model = ConvolutionalNetwork()\n",
        "model"
      ],
      "metadata": {
        "colab": {
          "base_uri": "https://localhost:8080/"
        },
        "id": "AvlFLWitOrtH",
        "outputId": "e65a35db-492f-4b8c-f4a3-7c209cdf886c"
      },
      "execution_count": null,
      "outputs": [
        {
          "output_type": "execute_result",
          "data": {
            "text/plain": [
              "ConvolutionalNetwork(\n",
              "  (conv1): Conv2d(1, 6, kernel_size=(3, 3), stride=(1, 1))\n",
              "  (conv2): Conv2d(6, 16, kernel_size=(3, 3), stride=(1, 1))\n",
              "  (fc1): Linear(in_features=400, out_features=120, bias=True)\n",
              "  (fc2): Linear(in_features=120, out_features=84, bias=True)\n",
              "  (fc3): Linear(in_features=84, out_features=10, bias=True)\n",
              ")"
            ]
          },
          "metadata": {},
          "execution_count": 23
        }
      ]
    },
    {
      "cell_type": "code",
      "source": [
        "# Loss function optimizer\n",
        "criterion = nn.CrossEntropyLoss()\n",
        "optimizer = torch.optim.Adam(model.parameters(),lr=0.001) #smaller the lr the longer training will take.\n"
      ],
      "metadata": {
        "id": "s6x0di2BPzQO"
      },
      "execution_count": null,
      "outputs": []
    },
    {
      "cell_type": "markdown",
      "source": [
        "Train the model"
      ],
      "metadata": {
        "id": "lLbBFVH8Tw05"
      }
    },
    {
      "cell_type": "code",
      "source": [
        "import time\n",
        "start_time = time.time()\n",
        "\n",
        "# Create variable to track things\n",
        "epochs=5\n",
        "train_losses=[]\n",
        "test_losses=[]\n",
        "train_correct=[]\n",
        "test_correct=[]\n",
        "\n",
        "#for loop of Epochs\n",
        "for i in range(epochs):\n",
        "  trn_corr=0\n",
        "  tst_corr=0\n",
        "\n",
        "  #Train\n",
        "  for b,(X_train,y_train) in enumerate(train_loader):\n",
        "    b+=1 #start batch at 1\n",
        "    y_pred = model(X_train) #its not flattened this is 2D\n",
        "    loss = criterion(y_pred,y_train)#how off are we? compare prediction to correct\n",
        "    predicted = torch.max(y_pred.data,1)[1] # add up the number of correct position . Indexed off the first point\n",
        "    batch_corr = (predicted==y_train).sum() #how many we got correct from this specific batch.\n",
        "    trn_corr +=batch_corr\n",
        "\n",
        "    #update the parameters\n",
        "    optimizer.zero_grad()\n",
        "    loss.backward()\n",
        "    optimizer.step()\n",
        "\n",
        "    #print out some results\n",
        "    if b%600 ==0:\n",
        "      print(f'Epoch: {i} Batch: {b} Loss: {loss.item()}')\n",
        "\n",
        "  train_losses.append(loss.item()) # Append the scalar value of the loss\n",
        "  train_correct.append(trn_corr)\n",
        "\n",
        "  #test\n",
        "  with torch.no_grad():\n",
        "      for b,(X_test,y_test) in enumerate(test_loader):\n",
        "        y_val = model(X_test)\n",
        "        predicted = torch.max(y_val.data,1)[1]\n",
        "        tst_corr += (predicted==y_test).sum()\n",
        "\n",
        "  loss = criterion(y_val,y_test)\n",
        "  test_losses.append(loss.item())\n",
        "  test_correct.append(tst_corr)\n",
        "\n",
        "current_time = time.time()\n",
        "total = current_time - start_time\n",
        "print(f'Training took {total/60} minutes')"
      ],
      "metadata": {
        "id": "hTUKgGgpQLtK",
        "colab": {
          "base_uri": "https://localhost:8080/"
        },
        "outputId": "40966b8b-00ec-415e-8e07-5b4fde7b6e27"
      },
      "execution_count": 47,
      "outputs": [
        {
          "output_type": "stream",
          "name": "stdout",
          "text": [
            "Epoch: 0 Batch: 600 Loss: 6.675703616565443e-07\n",
            "Epoch: 0 Batch: 1200 Loss: 7.188230028987164e-06\n",
            "Epoch: 0 Batch: 1800 Loss: 0.006847333163022995\n",
            "Epoch: 0 Batch: 2400 Loss: 1.705740396573674e-05\n",
            "Epoch: 0 Batch: 3000 Loss: 4.0093967982102185e-05\n",
            "Epoch: 0 Batch: 3600 Loss: 0.01698444038629532\n",
            "Epoch: 0 Batch: 4200 Loss: 0.0\n",
            "Epoch: 0 Batch: 4800 Loss: 3.5762755601354e-07\n",
            "Epoch: 0 Batch: 5400 Loss: 7.319372343772557e-06\n",
            "Epoch: 0 Batch: 6000 Loss: 0.0001779420708771795\n",
            "Epoch: 1 Batch: 600 Loss: 0.00014209552318789065\n",
            "Epoch: 1 Batch: 1200 Loss: 1.192092824453539e-08\n",
            "Epoch: 1 Batch: 1800 Loss: 3.6733559682033956e-05\n",
            "Epoch: 1 Batch: 2400 Loss: 5.137800599186448e-06\n",
            "Epoch: 1 Batch: 3000 Loss: 3.4570635421005136e-07\n",
            "Epoch: 1 Batch: 3600 Loss: 3.3378044008713914e-06\n",
            "Epoch: 1 Batch: 4200 Loss: 1.5616294604114955e-06\n",
            "Epoch: 1 Batch: 4800 Loss: 1.7881380642847944e-07\n",
            "Epoch: 1 Batch: 5400 Loss: 0.0\n",
            "Epoch: 1 Batch: 6000 Loss: 3.337855218887853e-07\n",
            "Epoch: 2 Batch: 600 Loss: 3.099436867159966e-07\n",
            "Epoch: 2 Batch: 1200 Loss: 0.0\n",
            "Epoch: 2 Batch: 1800 Loss: 0.31384938955307007\n",
            "Epoch: 2 Batch: 2400 Loss: 0.008126129396259785\n",
            "Epoch: 2 Batch: 3000 Loss: 5.006780838812119e-07\n",
            "Epoch: 2 Batch: 3600 Loss: 8.463824201498937e-07\n",
            "Epoch: 2 Batch: 4200 Loss: 0.0013665383448824286\n",
            "Epoch: 2 Batch: 4800 Loss: 1.311301218720473e-07\n",
            "Epoch: 2 Batch: 5400 Loss: 8.463841254524596e-07\n",
            "Epoch: 2 Batch: 6000 Loss: 2.384185648907078e-08\n",
            "Epoch: 3 Batch: 600 Loss: 1.128848634834867e-05\n",
            "Epoch: 3 Batch: 1200 Loss: 0.00013946171384304762\n",
            "Epoch: 3 Batch: 1800 Loss: 2.384185471271394e-08\n",
            "Epoch: 3 Batch: 2400 Loss: 2.0287363440729678e-05\n",
            "Epoch: 3 Batch: 3000 Loss: 2.3588891053805128e-05\n",
            "Epoch: 3 Batch: 3600 Loss: 0.0\n",
            "Epoch: 3 Batch: 4200 Loss: 0.0\n",
            "Epoch: 3 Batch: 4800 Loss: 0.0\n",
            "Epoch: 3 Batch: 5400 Loss: 0.0\n",
            "Epoch: 3 Batch: 6000 Loss: 3.91002640753868e-06\n",
            "Epoch: 4 Batch: 600 Loss: 1.430505790267489e-06\n",
            "Epoch: 4 Batch: 1200 Loss: 2.0265561317955871e-07\n",
            "Epoch: 4 Batch: 1800 Loss: 1.6689293147464923e-07\n",
            "Epoch: 4 Batch: 2400 Loss: 2.384185471271394e-08\n",
            "Epoch: 4 Batch: 3000 Loss: 1.4305103945844166e-07\n",
            "Epoch: 4 Batch: 3600 Loss: 2.3088176021701656e-05\n",
            "Epoch: 4 Batch: 4200 Loss: 0.0008451713947579265\n",
            "Epoch: 4 Batch: 4800 Loss: 0.0\n",
            "Epoch: 4 Batch: 5400 Loss: 5.960463411724959e-08\n",
            "Epoch: 4 Batch: 6000 Loss: 0.0\n",
            "Training took 3.079938590526581 minutes\n"
          ]
        }
      ]
    },
    {
      "cell_type": "markdown",
      "source": [
        "**Graph** **CNN** **Results**"
      ],
      "metadata": {
        "id": "sEBnuBXgcSk-"
      }
    },
    {
      "cell_type": "code",
      "source": [
        "train_losses[0]"
      ],
      "metadata": {
        "colab": {
          "base_uri": "https://localhost:8080/"
        },
        "id": "BmV4vnnxda9U",
        "outputId": "1eb25f9b-be35-46ee-a236-d4bf853ce775"
      },
      "execution_count": 48,
      "outputs": [
        {
          "output_type": "execute_result",
          "data": {
            "text/plain": [
              "0.0001779420708771795"
            ]
          },
          "metadata": {},
          "execution_count": 48
        }
      ]
    },
    {
      "cell_type": "code",
      "source": [
        "plt.plot(train_losses,label='Training Loss')\n",
        "plt.plot(test_losses,label='Testing Loss')\n",
        "plt.title('Loss at the end of each epoch')\n",
        "plt.legend()"
      ],
      "metadata": {
        "colab": {
          "base_uri": "https://localhost:8080/",
          "height": 470
        },
        "id": "9H69-z5scc-M",
        "outputId": "04d2f898-ee15-4fec-a8c2-cdb591635b3b"
      },
      "execution_count": 50,
      "outputs": [
        {
          "output_type": "execute_result",
          "data": {
            "text/plain": [
              "<matplotlib.legend.Legend at 0x7b77e44f0790>"
            ]
          },
          "metadata": {},
          "execution_count": 50
        },
        {
          "output_type": "display_data",
          "data": {
            "text/plain": [
              "<Figure size 640x480 with 1 Axes>"
            ],
            "image/png": "[encoded data removed]"
          },
          "metadata": {}
        }
      ]
    },
    {
      "cell_type": "code",
      "source": [
        "plt.plot([t/600 for t in train_correct])\n",
        "plt.plot([t/100 for t in test_correct])\n",
        "plt.title('Accuracy at the end of each epoch')\n",
        "plt.legend(['Training Accuracy','Testing Accuracy'])"
      ],
      "metadata": {
        "colab": {
          "base_uri": "https://localhost:8080/",
          "height": 470
        },
        "id": "LQl-9trDnC5s",
        "outputId": "e0eae71f-86fa-48de-9b19-71dadecfa023"
      },
      "execution_count": 51,
      "outputs": [
        {
          "output_type": "execute_result",
          "data": {
            "text/plain": [
              "<matplotlib.legend.Legend at 0x7b77e44f1b10>"
            ]
          },
          "metadata": {},
          "execution_count": 51
        },
        {
          "output_type": "display_data",
          "data": {
            "text/plain": [
              "<Figure size 640x480 with 1 Axes>"
            ],
            "image/png": "[encoded data removed]"
          },
          "metadata": {}
        }
      ]
    }
  ]
}