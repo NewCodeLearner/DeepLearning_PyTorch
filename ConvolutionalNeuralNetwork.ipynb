{
  "nbformat": 4,
  "nbformat_minor": 0,
  "metadata": {
    "colab": {
      "provenance": [],
      "gpuType": "T4",
      "authorship_tag": "ABX9TyPPvTkM6F3+a37UKf6Og2iN",
      "include_colab_link": true
    },
    "kernelspec": {
      "name": "python3",
      "display_name": "Python 3"
    },
    "language_info": {
      "name": "python"
    },
    "accelerator": "GPU"
  },
  "cells": [
    {
      "cell_type": "markdown",
      "metadata": {
        "id": "view-in-github",
        "colab_type": "text"
      },
      "source": [
        "<a href=\"https://colab.research.google.com/github/NewCodeLearner/DeepLearning_PyTorch/blob/main/ConvolutionalNeuralNetwork.ipynb\" target=\"_parent\"><img src=\"https://colab.research.google.com/assets/colab-badge.svg\" alt=\"Open In Colab\"/></a>"
      ]
    },
    {
      "cell_type": "markdown",
      "source": [
        "CNN's are neural networks that are used to classify images.\n",
        "\n",
        "We'll look at the Mnist Dataset and I'll explain a broad overview of how CNN's work.\n",
        "\n",
        "MNIST Dataset comes with 50000 training set and 10000 test images set\n",
        "\n",
        "setosa.io/image for demo of CNN"
      ],
      "metadata": {
        "id": "PVDoj_-gqRLA"
      }
    },
    {
      "cell_type": "markdown",
      "source": [],
      "metadata": {
        "id": "NEnqdTwY4FFH"
      }
    },
    {
      "cell_type": "code",
      "execution_count": 1,
      "metadata": {
        "id": "bYyIG3F-p8ly"
      },
      "outputs": [],
      "source": [
        "import torch\n",
        "import torch.nn as nn\n",
        "import torch.nn.functional as F\n",
        "from torch.utils.data import DataLoader\n",
        "from torchvision import datasets,transforms\n",
        "from torchvision.utils import make_grid\n",
        "\n",
        "import numpy as np\n",
        "import pandas as pd\n",
        "from sklearn.metrics import confusion_matrix\n",
        "import matplotlib.pyplot as plt\n",
        "%matplotlib inline"
      ]
    },
    {
      "cell_type": "code",
      "source": [
        "# Convert MNIST image file into Tensor of 4-dimensions (# of images, ht,width,color channel)\n",
        "transform = transforms.ToTensor()"
      ],
      "metadata": {
        "id": "yuqwmRfH4Z2Z"
      },
      "execution_count": 2,
      "outputs": []
    },
    {
      "cell_type": "code",
      "source": [
        "#Train data Download and save the MNIST data into local directory\n",
        "train_data = datasets.MNIST(root='/cnn_data',train =True,download=True,transform=transform)"
      ],
      "metadata": {
        "id": "5d04cjXR43jN",
        "colab": {
          "base_uri": "https://localhost:8080/"
        },
        "outputId": "d7c4decb-f860-419b-9097-e0ce1386bfb8"
      },
      "execution_count": 3,
      "outputs": [
        {
          "output_type": "stream",
          "name": "stdout",
          "text": [
            "Downloading http://yann.lecun.com/exdb/mnist/train-images-idx3-ubyte.gz\n",
            "Failed to download (trying next):\n",
            "HTTP Error 403: Forbidden\n",
            "\n",
            "Downloading https://ossci-datasets.s3.amazonaws.com/mnist/train-images-idx3-ubyte.gz\n",
            "Downloading https://ossci-datasets.s3.amazonaws.com/mnist/train-images-idx3-ubyte.gz to /cnn_data/MNIST/raw/train-images-idx3-ubyte.gz\n"
          ]
        },
        {
          "output_type": "stream",
          "name": "stderr",
          "text": [
            "100%|██████████| 9912422/9912422 [00:11<00:00, 884049.82it/s] \n"
          ]
        },
        {
          "output_type": "stream",
          "name": "stdout",
          "text": [
            "Extracting /cnn_data/MNIST/raw/train-images-idx3-ubyte.gz to /cnn_data/MNIST/raw\n",
            "\n",
            "Downloading http://yann.lecun.com/exdb/mnist/train-labels-idx1-ubyte.gz\n",
            "Failed to download (trying next):\n",
            "HTTP Error 403: Forbidden\n",
            "\n",
            "Downloading https://ossci-datasets.s3.amazonaws.com/mnist/train-labels-idx1-ubyte.gz\n",
            "Downloading https://ossci-datasets.s3.amazonaws.com/mnist/train-labels-idx1-ubyte.gz to /cnn_data/MNIST/raw/train-labels-idx1-ubyte.gz\n"
          ]
        },
        {
          "output_type": "stream",
          "name": "stderr",
          "text": [
            "100%|██████████| 28881/28881 [00:00<00:00, 62403.89it/s]\n"
          ]
        },
        {
          "output_type": "stream",
          "name": "stdout",
          "text": [
            "Extracting /cnn_data/MNIST/raw/train-labels-idx1-ubyte.gz to /cnn_data/MNIST/raw\n",
            "\n",
            "Downloading http://yann.lecun.com/exdb/mnist/t10k-images-idx3-ubyte.gz\n",
            "Failed to download (trying next):\n",
            "HTTP Error 403: Forbidden\n",
            "\n",
            "Downloading https://ossci-datasets.s3.amazonaws.com/mnist/t10k-images-idx3-ubyte.gz\n",
            "Downloading https://ossci-datasets.s3.amazonaws.com/mnist/t10k-images-idx3-ubyte.gz to /cnn_data/MNIST/raw/t10k-images-idx3-ubyte.gz\n"
          ]
        },
        {
          "output_type": "stream",
          "name": "stderr",
          "text": [
            "100%|██████████| 1648877/1648877 [00:06<00:00, 239450.23it/s]\n"
          ]
        },
        {
          "output_type": "stream",
          "name": "stdout",
          "text": [
            "Extracting /cnn_data/MNIST/raw/t10k-images-idx3-ubyte.gz to /cnn_data/MNIST/raw\n",
            "\n",
            "Downloading http://yann.lecun.com/exdb/mnist/t10k-labels-idx1-ubyte.gz\n",
            "Failed to download (trying next):\n",
            "HTTP Error 403: Forbidden\n",
            "\n",
            "Downloading https://ossci-datasets.s3.amazonaws.com/mnist/t10k-labels-idx1-ubyte.gz\n",
            "Downloading https://ossci-datasets.s3.amazonaws.com/mnist/t10k-labels-idx1-ubyte.gz to /cnn_data/MNIST/raw/t10k-labels-idx1-ubyte.gz\n"
          ]
        },
        {
          "output_type": "stream",
          "name": "stderr",
          "text": [
            "100%|██████████| 4542/4542 [00:00<00:00, 4268547.79it/s]"
          ]
        },
        {
          "output_type": "stream",
          "name": "stdout",
          "text": [
            "Extracting /cnn_data/MNIST/raw/t10k-labels-idx1-ubyte.gz to /cnn_data/MNIST/raw\n",
            "\n"
          ]
        },
        {
          "output_type": "stream",
          "name": "stderr",
          "text": [
            "\n"
          ]
        }
      ]
    },
    {
      "cell_type": "code",
      "source": [
        "test_data = datasets.MNIST(root='/cnn_data',train=False,download=True,transform=transform)"
      ],
      "metadata": {
        "id": "_g6hZuiF5RIM"
      },
      "execution_count": 4,
      "outputs": []
    },
    {
      "cell_type": "code",
      "source": [
        "train_data"
      ],
      "metadata": {
        "colab": {
          "base_uri": "https://localhost:8080/"
        },
        "id": "OS4w89tn509F",
        "outputId": "3b2ac3b9-a2a1-47d6-9243-fe9e79af510a"
      },
      "execution_count": 5,
      "outputs": [
        {
          "output_type": "execute_result",
          "data": {
            "text/plain": [
              "Dataset MNIST\n",
              "    Number of datapoints: 60000\n",
              "    Root location: /cnn_data\n",
              "    Split: Train\n",
              "    StandardTransform\n",
              "Transform: ToTensor()"
            ]
          },
          "metadata": {},
          "execution_count": 5
        }
      ]
    },
    {
      "cell_type": "code",
      "source": [
        "test_data"
      ],
      "metadata": {
        "colab": {
          "base_uri": "https://localhost:8080/"
        },
        "id": "9HSR_PuI55Y9",
        "outputId": "3881ef25-faf7-41ae-dee6-1a5232e0bec1"
      },
      "execution_count": 6,
      "outputs": [
        {
          "output_type": "execute_result",
          "data": {
            "text/plain": [
              "Dataset MNIST\n",
              "    Number of datapoints: 10000\n",
              "    Root location: /cnn_data\n",
              "    Split: Test\n",
              "    StandardTransform\n",
              "Transform: ToTensor()"
            ]
          },
          "metadata": {},
          "execution_count": 6
        }
      ]
    },
    {
      "cell_type": "code",
      "source": [
        "# create a small batch size for images\n",
        "train_loader = DataLoader(train_data,batch_size=10,shuffle=True)\n",
        "test_loader = DataLoader(test_data,batch_size=10,shuffle=False)"
      ],
      "metadata": {
        "id": "2tjong6A7F3p"
      },
      "execution_count": 7,
      "outputs": []
    },
    {
      "cell_type": "code",
      "source": [
        "#Define our CNN Model\n",
        "#Describe convolutional layer and what its doing ( 2 Convolutional layers)\n",
        "#this is just an exmaple.\n",
        "conv1= nn.Conv2d(1,6,3,1)  #input size 1,output 6(feature maps),kernel size 3x3 ,stride 1 pixel at a time\n",
        "conv2= nn.Conv2d(6,16,3,1) #6 output becomes input here , 16 output feature maps"
      ],
      "metadata": {
        "id": "30tM_ZFL8Jwc"
      },
      "execution_count": 8,
      "outputs": []
    },
    {
      "cell_type": "code",
      "source": [
        "# Grab 1 MNIST image\n",
        "for i,(X_train,y_train) in enumerate(train_data):\n",
        "    break"
      ],
      "metadata": {
        "id": "2A3MITrR8sK2"
      },
      "execution_count": 9,
      "outputs": []
    },
    {
      "cell_type": "code",
      "source": [
        "X_train.shape\n",
        "#torch.Size([1, 28, 28]) 1 image of 28x28 size"
      ],
      "metadata": {
        "colab": {
          "base_uri": "https://localhost:8080/"
        },
        "id": "yMCdeSp19kzk",
        "outputId": "366a99fb-8769-47a2-f09e-7b1c18e9e0d8"
      },
      "execution_count": 10,
      "outputs": [
        {
          "output_type": "execute_result",
          "data": {
            "text/plain": [
              "torch.Size([1, 28, 28])"
            ]
          },
          "metadata": {},
          "execution_count": 10
        }
      ]
    },
    {
      "cell_type": "code",
      "source": [
        "x = X_train.view(1,1,28,28) # 1 batch--1image--28x28 pixels"
      ],
      "metadata": {
        "id": "OhYsSizj-LwE"
      },
      "execution_count": 11,
      "outputs": []
    },
    {
      "cell_type": "code",
      "source": [
        "# Perform our first convolution\n",
        "x=F.relu(conv1(x)) #rectified linear unit for activation function"
      ],
      "metadata": {
        "id": "rA8E1yXm9seR"
      },
      "execution_count": 12,
      "outputs": []
    },
    {
      "cell_type": "code",
      "source": [
        "# 1 single image , 6 the filters we asked for,\n",
        "#26x26 is the image as we dont have padding and mnist data is all in the middle of the image so we are not losing any data but for other projects padding may be needed.\n",
        "x.shape"
      ],
      "metadata": {
        "colab": {
          "base_uri": "https://localhost:8080/"
        },
        "id": "HbkR2E0t-hDf",
        "outputId": "56d5969f-64c8-4250-a9e1-cda01df63e72"
      },
      "execution_count": 13,
      "outputs": [
        {
          "output_type": "execute_result",
          "data": {
            "text/plain": [
              "torch.Size([1, 6, 26, 26])"
            ]
          },
          "metadata": {},
          "execution_count": 13
        }
      ]
    },
    {
      "cell_type": "code",
      "source": [
        "# pass thru pooling layer\n",
        "x=F.max_pool2d(x,2,2) # 2x2 kernel for pooling stride of 2"
      ],
      "metadata": {
        "id": "mIi05FPN_U4F"
      },
      "execution_count": 14,
      "outputs": []
    },
    {
      "cell_type": "code",
      "source": [
        "#as we set kernel 2x2 the image is now 26/2 =13\n",
        "x.shape"
      ],
      "metadata": {
        "colab": {
          "base_uri": "https://localhost:8080/"
        },
        "id": "QSiCK9Sl_d7C",
        "outputId": "9b8c8dd1-05a7-40e4-cc35-dc2c4fbb9ec2"
      },
      "execution_count": 15,
      "outputs": [
        {
          "output_type": "execute_result",
          "data": {
            "text/plain": [
              "torch.Size([1, 6, 13, 13])"
            ]
          },
          "metadata": {},
          "execution_count": 15
        }
      ]
    },
    {
      "cell_type": "code",
      "source": [
        "#Do our second convolution layer\n",
        "x=F.relu(conv2(x))"
      ],
      "metadata": {
        "id": "BIYWm5Sq_tmN"
      },
      "execution_count": 16,
      "outputs": []
    },
    {
      "cell_type": "code",
      "source": [
        "x.shape #again we didnt set padding so we lose 2 pixels around the images edges"
      ],
      "metadata": {
        "colab": {
          "base_uri": "https://localhost:8080/"
        },
        "id": "GCBYQ2fO_-Au",
        "outputId": "14fd880b-83a8-473b-9b4a-519ea141c416"
      },
      "execution_count": 17,
      "outputs": [
        {
          "output_type": "execute_result",
          "data": {
            "text/plain": [
              "torch.Size([1, 16, 11, 11])"
            ]
          },
          "metadata": {},
          "execution_count": 17
        }
      ]
    },
    {
      "cell_type": "code",
      "source": [
        "#pooling layer\n",
        "x=F.max_pool2d(x,2,2) #11/2 =5.5 but we have to round down, because we cant invent data to round up"
      ],
      "metadata": {
        "id": "uBMzOFCOAI_B"
      },
      "execution_count": 18,
      "outputs": []
    },
    {
      "cell_type": "code",
      "source": [
        "x.shape"
      ],
      "metadata": {
        "colab": {
          "base_uri": "https://localhost:8080/"
        },
        "id": "ABDjftw9MTIS",
        "outputId": "b61f0f32-8916-4b97-c504-436ff24c2d88"
      },
      "execution_count": 19,
      "outputs": [
        {
          "output_type": "execute_result",
          "data": {
            "text/plain": [
              "torch.Size([1, 16, 5, 5])"
            ]
          },
          "metadata": {},
          "execution_count": 19
        }
      ]
    },
    {
      "cell_type": "code",
      "source": [
        "# Model Class\n",
        "class ConvolutionalNetwork(nn.Module):\n",
        "    def __init__(self):\n",
        "      super().__init__()\n",
        "      self.conv1=nn.Conv2d(1,6,3,1)\n",
        "      self.conv2=nn.Conv2d(6,16,3,1)\n",
        "      #fully connected layer\n",
        "      self.fc1= nn.Linear(5*5*16,120)\n",
        "      self.fc2= nn.Linear(120,84)\n",
        "      self.fc3= nn.Linear(84,10)\n",
        "\n",
        "    #forward pass\n",
        "    def forward(self,x):\n",
        "      x=F.relu(self.conv1(x))\n",
        "      x=F.max_pool2d(x,2,2)\n",
        "      #second pass\n",
        "      x=F.relu(self.conv2(x))\n",
        "      x=F.max_pool2d(x,2,2)\n",
        "      #re-View to flatten out\n",
        "      x=x.view(-1,5*5*16) # negative one so we can vary the batch size\n",
        "      #Fully connected layers\n",
        "      x=F.relu(self.fc1(x))\n",
        "      x=F.relu(self.fc2(x))\n",
        "      x=self.fc3(x)\n",
        "      return F.log_softmax(x,dim=1)"
      ],
      "metadata": {
        "id": "BSDU4MLYAhTB"
      },
      "execution_count": 20,
      "outputs": []
    },
    {
      "cell_type": "code",
      "source": [
        "# create an instance of model\n",
        "torch.manual_seed(41)\n",
        "model = ConvolutionalNetwork()\n",
        "model"
      ],
      "metadata": {
        "colab": {
          "base_uri": "https://localhost:8080/"
        },
        "id": "AvlFLWitOrtH",
        "outputId": "e8d055d3-2ea0-4160-9c74-7fa50ebbf6a1"
      },
      "execution_count": 21,
      "outputs": [
        {
          "output_type": "execute_result",
          "data": {
            "text/plain": [
              "ConvolutionalNetwork(\n",
              "  (conv1): Conv2d(1, 6, kernel_size=(3, 3), stride=(1, 1))\n",
              "  (conv2): Conv2d(6, 16, kernel_size=(3, 3), stride=(1, 1))\n",
              "  (fc1): Linear(in_features=400, out_features=120, bias=True)\n",
              "  (fc2): Linear(in_features=120, out_features=84, bias=True)\n",
              "  (fc3): Linear(in_features=84, out_features=10, bias=True)\n",
              ")"
            ]
          },
          "metadata": {},
          "execution_count": 21
        }
      ]
    },
    {
      "cell_type": "code",
      "source": [
        "# Loss function optimizer\n",
        "criterion = nn.CrossEntropyLoss()\n",
        "optimizer = torch.optim.Adam(model.parameters(),lr=0.001) #smaller the lr the longer training will take.\n"
      ],
      "metadata": {
        "id": "s6x0di2BPzQO"
      },
      "execution_count": 22,
      "outputs": []
    },
    {
      "cell_type": "markdown",
      "source": [
        "Train the model"
      ],
      "metadata": {
        "id": "lLbBFVH8Tw05"
      }
    },
    {
      "cell_type": "code",
      "source": [
        "import time\n",
        "start_time = time.time()\n",
        "\n",
        "# Create variable to track things\n",
        "epochs=5\n",
        "train_losses=[]\n",
        "test_losses=[]\n",
        "train_correct=[]\n",
        "test_correct=[]\n",
        "\n",
        "#for loop of Epochs\n",
        "for i in range(epochs):\n",
        "  trn_corr=0\n",
        "  tst_corr=0\n",
        "\n",
        "  #Train\n",
        "  for b,(X_train,y_train) in enumerate(train_loader):\n",
        "    b+=1 #start batch at 1\n",
        "    y_pred = model(X_train) #its not flattened this is 2D\n",
        "    loss = criterion(y_pred,y_train)#how off are we? compare prediction to correct\n",
        "    predicted = torch.max(y_pred.data,1)[1] # add up the number of correct position . Indexed off the first point\n",
        "    batch_corr = (predicted==y_train).sum() #how many we got correct from this specific batch.\n",
        "    trn_corr +=batch_corr\n",
        "\n",
        "    #update the parameters\n",
        "    optimizer.zero_grad()\n",
        "    loss.backward()\n",
        "    optimizer.step()\n",
        "\n",
        "    #print out some results\n",
        "    if b%600 ==0:\n",
        "      print(f'Epoch: {i} Batch: {b} Loss: {loss.item()}')\n",
        "\n",
        "  train_losses.append(loss.item()) # Append the scalar value of the loss\n",
        "  train_correct.append(trn_corr)\n",
        "\n",
        "  #test\n",
        "  with torch.no_grad():\n",
        "      for b,(X_test,y_test) in enumerate(test_loader):\n",
        "        y_val = model(X_test)\n",
        "        predicted = torch.max(y_val.data,1)[1]\n",
        "        tst_corr += (predicted==y_test).sum()\n",
        "\n",
        "  loss = criterion(y_val,y_test)\n",
        "  test_losses.append(loss.item())\n",
        "  test_correct.append(tst_corr)\n",
        "\n",
        "current_time = time.time()\n",
        "total = current_time - start_time\n",
        "print(f'Training took {total/60} minutes')"
      ],
      "metadata": {
        "id": "hTUKgGgpQLtK",
        "colab": {
          "base_uri": "https://localhost:8080/"
        },
        "outputId": "d0893062-0b6c-4e14-8c14-490481a09580"
      },
      "execution_count": 23,
      "outputs": [
        {
          "output_type": "stream",
          "name": "stdout",
          "text": [
            "Epoch: 0 Batch: 600 Loss: 0.1599934995174408\n",
            "Epoch: 0 Batch: 1200 Loss: 0.18979528546333313\n",
            "Epoch: 0 Batch: 1800 Loss: 0.5580862760543823\n",
            "Epoch: 0 Batch: 2400 Loss: 0.2070152312517166\n",
            "Epoch: 0 Batch: 3000 Loss: 0.006888664327561855\n",
            "Epoch: 0 Batch: 3600 Loss: 0.33112621307373047\n",
            "Epoch: 0 Batch: 4200 Loss: 0.004664934705942869\n",
            "Epoch: 0 Batch: 4800 Loss: 0.0020317500457167625\n",
            "Epoch: 0 Batch: 5400 Loss: 0.06558699160814285\n",
            "Epoch: 0 Batch: 6000 Loss: 0.000513441045768559\n",
            "Epoch: 1 Batch: 600 Loss: 0.004773168824613094\n",
            "Epoch: 1 Batch: 1200 Loss: 0.30684694647789\n",
            "Epoch: 1 Batch: 1800 Loss: 0.0025840331800282\n",
            "Epoch: 1 Batch: 2400 Loss: 0.004851708188652992\n",
            "Epoch: 1 Batch: 3000 Loss: 0.05095291882753372\n",
            "Epoch: 1 Batch: 3600 Loss: 0.29904529452323914\n",
            "Epoch: 1 Batch: 4200 Loss: 0.020275484770536423\n",
            "Epoch: 1 Batch: 4800 Loss: 0.0018002415308728814\n",
            "Epoch: 1 Batch: 5400 Loss: 0.0003511425748001784\n",
            "Epoch: 1 Batch: 6000 Loss: 0.16817066073417664\n",
            "Epoch: 2 Batch: 600 Loss: 0.044435493648052216\n",
            "Epoch: 2 Batch: 1200 Loss: 0.004347414709627628\n",
            "Epoch: 2 Batch: 1800 Loss: 0.0031939216423779726\n",
            "Epoch: 2 Batch: 2400 Loss: 0.001477271900512278\n",
            "Epoch: 2 Batch: 3000 Loss: 0.03410597890615463\n",
            "Epoch: 2 Batch: 3600 Loss: 0.0017348671099171042\n",
            "Epoch: 2 Batch: 4200 Loss: 0.026752764359116554\n",
            "Epoch: 2 Batch: 4800 Loss: 0.0011857940116897225\n",
            "Epoch: 2 Batch: 5400 Loss: 0.03397049382328987\n",
            "Epoch: 2 Batch: 6000 Loss: 0.08765818178653717\n",
            "Epoch: 3 Batch: 600 Loss: 0.0014157459372654557\n",
            "Epoch: 3 Batch: 1200 Loss: 0.04033372178673744\n",
            "Epoch: 3 Batch: 1800 Loss: 0.009649786166846752\n",
            "Epoch: 3 Batch: 2400 Loss: 9.890591900330037e-05\n",
            "Epoch: 3 Batch: 3000 Loss: 0.0006461621960625052\n",
            "Epoch: 3 Batch: 3600 Loss: 0.0020527213346213102\n",
            "Epoch: 3 Batch: 4200 Loss: 0.017012134194374084\n",
            "Epoch: 3 Batch: 4800 Loss: 0.0006663133972324431\n",
            "Epoch: 3 Batch: 5400 Loss: 0.2162645161151886\n",
            "Epoch: 3 Batch: 6000 Loss: 0.008805084973573685\n",
            "Epoch: 4 Batch: 600 Loss: 0.003906161990016699\n",
            "Epoch: 4 Batch: 1200 Loss: 0.02706657350063324\n",
            "Epoch: 4 Batch: 1800 Loss: 0.031226878985762596\n",
            "Epoch: 4 Batch: 2400 Loss: 0.003980172798037529\n",
            "Epoch: 4 Batch: 3000 Loss: 0.00034568319097161293\n",
            "Epoch: 4 Batch: 3600 Loss: 0.00021057421690784395\n",
            "Epoch: 4 Batch: 4200 Loss: 0.00018548659863881767\n",
            "Epoch: 4 Batch: 4800 Loss: 0.005335819907486439\n",
            "Epoch: 4 Batch: 5400 Loss: 0.16066013276576996\n",
            "Epoch: 4 Batch: 6000 Loss: 0.00018261259538121521\n",
            "Training took 3.2584715565045674 minutes\n"
          ]
        }
      ]
    },
    {
      "cell_type": "markdown",
      "source": [
        "**Graph** **CNN** **Results**"
      ],
      "metadata": {
        "id": "sEBnuBXgcSk-"
      }
    },
    {
      "cell_type": "code",
      "source": [
        "train_losses[0]"
      ],
      "metadata": {
        "colab": {
          "base_uri": "https://localhost:8080/"
        },
        "id": "BmV4vnnxda9U",
        "outputId": "997facc9-1aac-4ac6-c18a-f919e9d78112"
      },
      "execution_count": 24,
      "outputs": [
        {
          "output_type": "execute_result",
          "data": {
            "text/plain": [
              "0.000513441045768559"
            ]
          },
          "metadata": {},
          "execution_count": 24
        }
      ]
    },
    {
      "cell_type": "code",
      "source": [
        "plt.plot(train_losses,label='Training Loss')\n",
        "plt.plot(test_losses,label='Testing Loss')\n",
        "plt.title('Loss at the end of each epoch')\n",
        "plt.legend()"
      ],
      "metadata": {
        "colab": {
          "base_uri": "https://localhost:8080/",
          "height": 470
        },
        "id": "9H69-z5scc-M",
        "outputId": "d2deea4a-cf1e-49c6-f280-7325843a9c03"
      },
      "execution_count": 25,
      "outputs": [
        {
          "output_type": "execute_result",
          "data": {
            "text/plain": [
              "<matplotlib.legend.Legend at 0x7cfa04f7ae30>"
            ]
          },
          "metadata": {},
          "execution_count": 25
        },
        {
          "output_type": "display_data",
          "data": {
            "text/plain": [
              "<Figure size 640x480 with 1 Axes>"
            ],
            "image/png": "[encoded data removed]"
          },
          "metadata": {}
        }
      ]
    },
    {
      "cell_type": "code",
      "source": [
        "plt.plot([t/600 for t in train_correct])\n",
        "plt.plot([t/100 for t in test_correct])\n",
        "plt.title('Accuracy at the end of each epoch')\n",
        "plt.legend(['Training Accuracy','Testing Accuracy'])"
      ],
      "metadata": {
        "colab": {
          "base_uri": "https://localhost:8080/",
          "height": 470
        },
        "id": "LQl-9trDnC5s",
        "outputId": "e4340618-d423-4fdd-ef37-91299e7c0058"
      },
      "execution_count": 26,
      "outputs": [
        {
          "output_type": "execute_result",
          "data": {
            "text/plain": [
              "<matplotlib.legend.Legend at 0x7cfa04273880>"
            ]
          },
          "metadata": {},
          "execution_count": 26
        },
        {
          "output_type": "display_data",
          "data": {
            "text/plain": [
              "<Figure size 640x480 with 1 Axes>"
            ],
            "image/png": "[encoded data removed]"
          },
          "metadata": {}
        }
      ]
    },
    {
      "cell_type": "markdown",
      "source": [
        "Send new image thru model"
      ],
      "metadata": {
        "id": "XNH0IrPB9N-2"
      }
    },
    {
      "cell_type": "code",
      "source": [
        "# Grab an image\n",
        "test_data[4143] # Tensor with image and label"
      ],
      "metadata": {
        "id": "o4UCnEzGz4WH"
      },
      "execution_count": null,
      "outputs": []
    },
    {
      "cell_type": "code",
      "source": [
        "# Grab just the data without the label at the end\n",
        "test_data[4143][0]"
      ],
      "metadata": {
        "id": "a-K2RU3e9fyG",
        "outputId": "82937e3e-7b04-439c-e38f-7867fefcde32",
        "colab": {
          "base_uri": "https://localhost:8080/"
        }
      },
      "execution_count": 28,
      "outputs": [
        {
          "output_type": "execute_result",
          "data": {
            "text/plain": [
              "tensor([[[0.0000, 0.0000, 0.0000, 0.0000, 0.0000, 0.0000, 0.0000, 0.0000,\n",
              "          0.0000, 0.0000, 0.0000, 0.0000, 0.0000, 0.0000, 0.0000, 0.0000,\n",
              "          0.0000, 0.0000, 0.0000, 0.0000, 0.0000, 0.0000, 0.0000, 0.0000,\n",
              "          0.0000, 0.0000, 0.0000, 0.0000],\n",
              "         [0.0000, 0.0000, 0.0000, 0.0000, 0.0000, 0.0000, 0.0000, 0.0000,\n",
              "          0.0000, 0.0000, 0.0000, 0.0000, 0.0000, 0.0000, 0.0000, 0.0000,\n",
              "          0.0000, 0.0000, 0.0000, 0.0000, 0.0000, 0.0000, 0.0000, 0.0000,\n",
              "          0.0000, 0.0000, 0.0000, 0.0000],\n",
              "         [0.0000, 0.0000, 0.0000, 0.0000, 0.0000, 0.0000, 0.0000, 0.0000,\n",
              "          0.0000, 0.0000, 0.0000, 0.0000, 0.0000, 0.0000, 0.0000, 0.0000,\n",
              "          0.0000, 0.0000, 0.0000, 0.0000, 0.0000, 0.0000, 0.0000, 0.0000,\n",
              "          0.0000, 0.0000, 0.0000, 0.0000],\n",
              "         [0.0000, 0.0000, 0.0000, 0.0000, 0.0000, 0.0000, 0.0000, 0.0000,\n",
              "          0.0000, 0.0000, 0.0000, 0.0000, 0.0000, 0.0000, 0.0000, 0.0000,\n",
              "          0.0000, 0.0000, 0.0000, 0.0000, 0.0000, 0.0000, 0.0000, 0.0000,\n",
              "          0.0000, 0.0000, 0.0000, 0.0000],\n",
              "         [0.0000, 0.0000, 0.0000, 0.0000, 0.0000, 0.0000, 0.0000, 0.0000,\n",
              "          0.0000, 0.0000, 0.0000, 0.0000, 0.0000, 0.0000, 0.0000, 0.0000,\n",
              "          0.0000, 0.0000, 0.0000, 0.0000, 0.0000, 0.0000, 0.0000, 0.0000,\n",
              "          0.0000, 0.0000, 0.0000, 0.0000],\n",
              "         [0.0000, 0.0000, 0.0000, 0.0000, 0.0000, 0.0000, 0.0000, 0.0000,\n",
              "          0.0000, 0.0000, 0.0000, 0.0000, 0.0000, 0.0000, 0.0000, 0.0000,\n",
              "          0.0000, 0.0000, 0.0000, 0.0000, 0.0000, 0.0000, 0.0000, 0.0000,\n",
              "          0.0000, 0.0000, 0.0000, 0.0000],\n",
              "         [0.0000, 0.0000, 0.0000, 0.0000, 0.0000, 0.0000, 0.0000, 0.0000,\n",
              "          0.0000, 0.0000, 0.0000, 0.1765, 0.9098, 0.8275, 0.4980, 0.0627,\n",
              "          0.0000, 0.0000, 0.0000, 0.0000, 0.0000, 0.0000, 0.0000, 0.0000,\n",
              "          0.0000, 0.0000, 0.0000, 0.0000],\n",
              "         [0.0000, 0.0000, 0.0000, 0.0000, 0.0000, 0.0000, 0.0000, 0.0000,\n",
              "          0.0000, 0.0000, 0.0706, 0.7961, 0.9961, 0.9961, 0.9961, 0.8235,\n",
              "          0.3765, 0.0667, 0.0000, 0.0000, 0.0000, 0.0000, 0.0000, 0.0000,\n",
              "          0.0000, 0.0000, 0.0000, 0.0000],\n",
              "         [0.0000, 0.0000, 0.0000, 0.0000, 0.0000, 0.0000, 0.0000, 0.0000,\n",
              "          0.0000, 0.0000, 0.4353, 0.9961, 0.9961, 0.4667, 0.8941, 0.9961,\n",
              "          0.9961, 0.9412, 0.1490, 0.0000, 0.0000, 0.0000, 0.0000, 0.0000,\n",
              "          0.0000, 0.0000, 0.0000, 0.0000],\n",
              "         [0.0000, 0.0000, 0.0000, 0.0000, 0.0000, 0.0000, 0.0000, 0.0000,\n",
              "          0.0000, 0.0000, 0.8824, 0.9961, 0.7922, 0.0588, 0.1569, 0.8235,\n",
              "          0.9961, 0.9961, 0.4431, 0.0000, 0.0000, 0.0000, 0.0000, 0.0000,\n",
              "          0.0000, 0.0000, 0.0000, 0.0000],\n",
              "         [0.0000, 0.0000, 0.0000, 0.0000, 0.0000, 0.0000, 0.0000, 0.0000,\n",
              "          0.0000, 0.2314, 0.9569, 0.9961, 0.2706, 0.0000, 0.0000, 0.8157,\n",
              "          0.9961, 0.9961, 0.6902, 0.0000, 0.0000, 0.0000, 0.0000, 0.0000,\n",
              "          0.0000, 0.0000, 0.0000, 0.0000],\n",
              "         [0.0000, 0.0000, 0.0000, 0.0000, 0.0000, 0.0000, 0.0000, 0.0000,\n",
              "          0.0000, 0.7725, 0.9961, 0.9961, 0.1333, 0.0000, 0.2235, 0.9843,\n",
              "          0.9961, 0.9961, 0.5725, 0.0000, 0.0000, 0.0000, 0.0000, 0.0000,\n",
              "          0.0000, 0.0000, 0.0000, 0.0000],\n",
              "         [0.0000, 0.0000, 0.0000, 0.0000, 0.0000, 0.0000, 0.0000, 0.0000,\n",
              "          0.0000, 0.9176, 0.9961, 0.6235, 0.0157, 0.0392, 0.7176, 0.9961,\n",
              "          0.9961, 0.9961, 0.3843, 0.0000, 0.0000, 0.0000, 0.0000, 0.0000,\n",
              "          0.0000, 0.0000, 0.0000, 0.0000],\n",
              "         [0.0000, 0.0000, 0.0000, 0.0000, 0.0000, 0.0000, 0.0000, 0.0000,\n",
              "          0.0000, 0.9176, 0.9961, 0.1569, 0.0000, 0.6549, 0.9961, 0.9961,\n",
              "          0.9961, 0.9961, 0.2353, 0.0000, 0.0000, 0.0000, 0.0000, 0.0000,\n",
              "          0.0000, 0.0000, 0.0000, 0.0000],\n",
              "         [0.0000, 0.0000, 0.0000, 0.0000, 0.0000, 0.0000, 0.0000, 0.0000,\n",
              "          0.0000, 0.7373, 0.9961, 0.2824, 0.6588, 0.9765, 0.9961, 0.9961,\n",
              "          0.9961, 0.9961, 0.2353, 0.0000, 0.0000, 0.0000, 0.0000, 0.0000,\n",
              "          0.0000, 0.0000, 0.0000, 0.0000],\n",
              "         [0.0000, 0.0000, 0.0000, 0.0000, 0.0000, 0.0000, 0.0000, 0.0000,\n",
              "          0.0000, 0.3647, 0.9804, 0.9961, 0.9961, 0.9961, 0.9961, 0.9961,\n",
              "          0.9961, 0.9961, 0.2353, 0.0000, 0.0000, 0.0000, 0.0000, 0.0000,\n",
              "          0.0000, 0.0000, 0.0000, 0.0000],\n",
              "         [0.0000, 0.0000, 0.0000, 0.0000, 0.0000, 0.0000, 0.0000, 0.0000,\n",
              "          0.0000, 0.0000, 0.6784, 0.9961, 0.9961, 0.9961, 0.9451, 0.9961,\n",
              "          0.9961, 0.6824, 0.0392, 0.0000, 0.0000, 0.0000, 0.0000, 0.0000,\n",
              "          0.0000, 0.0000, 0.0000, 0.0000],\n",
              "         [0.0000, 0.0000, 0.0000, 0.0000, 0.0000, 0.0000, 0.0000, 0.0000,\n",
              "          0.0000, 0.0000, 0.0431, 0.4863, 0.8157, 0.4627, 0.5804, 0.9961,\n",
              "          0.9961, 0.8941, 0.0000, 0.0000, 0.0000, 0.0000, 0.0000, 0.0000,\n",
              "          0.0000, 0.0000, 0.0000, 0.0000],\n",
              "         [0.0000, 0.0000, 0.0000, 0.0000, 0.0000, 0.0000, 0.0000, 0.0000,\n",
              "          0.0000, 0.0000, 0.0000, 0.0000, 0.0000, 0.0000, 0.4941, 0.9961,\n",
              "          0.9961, 0.6235, 0.0000, 0.0000, 0.0000, 0.0000, 0.0000, 0.0000,\n",
              "          0.0000, 0.0000, 0.0000, 0.0000],\n",
              "         [0.0000, 0.0000, 0.0000, 0.0000, 0.0000, 0.0000, 0.0000, 0.0000,\n",
              "          0.0000, 0.0000, 0.0000, 0.0000, 0.0000, 0.0000, 0.7569, 0.9961,\n",
              "          0.9961, 0.5569, 0.0000, 0.0000, 0.0000, 0.0000, 0.0000, 0.0000,\n",
              "          0.0000, 0.0000, 0.0000, 0.0000],\n",
              "         [0.0000, 0.0000, 0.0000, 0.0000, 0.0000, 0.0000, 0.0000, 0.0000,\n",
              "          0.0000, 0.0000, 0.0000, 0.0000, 0.0000, 0.0000, 0.8314, 0.9961,\n",
              "          0.9961, 0.4157, 0.0000, 0.0000, 0.0000, 0.0000, 0.0000, 0.0000,\n",
              "          0.0000, 0.0000, 0.0000, 0.0000],\n",
              "         [0.0000, 0.0000, 0.0000, 0.0000, 0.0000, 0.0000, 0.0000, 0.0000,\n",
              "          0.0000, 0.0000, 0.0000, 0.0000, 0.0000, 0.0118, 0.8431, 0.9961,\n",
              "          0.9882, 0.2039, 0.0000, 0.0000, 0.0000, 0.0000, 0.0000, 0.0000,\n",
              "          0.0000, 0.0000, 0.0000, 0.0000],\n",
              "         [0.0000, 0.0000, 0.0000, 0.0000, 0.0000, 0.0000, 0.0000, 0.0000,\n",
              "          0.0000, 0.0000, 0.0000, 0.0000, 0.0000, 0.1882, 0.9961, 0.9961,\n",
              "          0.9255, 0.0863, 0.0000, 0.0000, 0.0000, 0.0000, 0.0000, 0.0000,\n",
              "          0.0000, 0.0000, 0.0000, 0.0000],\n",
              "         [0.0000, 0.0000, 0.0000, 0.0000, 0.0000, 0.0000, 0.0000, 0.0000,\n",
              "          0.0000, 0.0000, 0.0000, 0.0000, 0.0000, 0.5098, 0.9961, 1.0000,\n",
              "          0.5529, 0.0627, 0.0000, 0.0000, 0.0000, 0.0000, 0.0000, 0.0000,\n",
              "          0.0000, 0.0000, 0.0000, 0.0000],\n",
              "         [0.0000, 0.0000, 0.0000, 0.0000, 0.0000, 0.0000, 0.0000, 0.0000,\n",
              "          0.0000, 0.0000, 0.0000, 0.0000, 0.0000, 0.5098, 0.9961, 1.0000,\n",
              "          0.3059, 0.0000, 0.0000, 0.0000, 0.0000, 0.0000, 0.0000, 0.0000,\n",
              "          0.0000, 0.0000, 0.0000, 0.0000],\n",
              "         [0.0000, 0.0000, 0.0000, 0.0000, 0.0000, 0.0000, 0.0000, 0.0000,\n",
              "          0.0000, 0.0000, 0.0000, 0.0000, 0.0000, 0.3961, 0.9961, 0.7882,\n",
              "          0.0667, 0.0000, 0.0000, 0.0000, 0.0000, 0.0000, 0.0000, 0.0000,\n",
              "          0.0000, 0.0000, 0.0000, 0.0000],\n",
              "         [0.0000, 0.0000, 0.0000, 0.0000, 0.0000, 0.0000, 0.0000, 0.0000,\n",
              "          0.0000, 0.0000, 0.0000, 0.0000, 0.0000, 0.0000, 0.0000, 0.0000,\n",
              "          0.0000, 0.0000, 0.0000, 0.0000, 0.0000, 0.0000, 0.0000, 0.0000,\n",
              "          0.0000, 0.0000, 0.0000, 0.0000],\n",
              "         [0.0000, 0.0000, 0.0000, 0.0000, 0.0000, 0.0000, 0.0000, 0.0000,\n",
              "          0.0000, 0.0000, 0.0000, 0.0000, 0.0000, 0.0000, 0.0000, 0.0000,\n",
              "          0.0000, 0.0000, 0.0000, 0.0000, 0.0000, 0.0000, 0.0000, 0.0000,\n",
              "          0.0000, 0.0000, 0.0000, 0.0000]]])"
            ]
          },
          "metadata": {},
          "execution_count": 28
        }
      ]
    },
    {
      "cell_type": "code",
      "source": [
        "test_data[4143][0].reshape(28,28)"
      ],
      "metadata": {
        "id": "C45ODMvK9uvC"
      },
      "execution_count": null,
      "outputs": []
    },
    {
      "cell_type": "code",
      "source": [
        "# put the image through the model\n",
        "model.eval()\n",
        "with torch.no_grad():\n",
        "  new_pred=model(test_data[4143][0].view(1,1,28,28)) # batch size of 1 ,1 color channel, 28x28 image\n",
        "  print(new_pred)"
      ],
      "metadata": {
        "id": "X3lG7KsX951t",
        "outputId": "5c1e8eb2-dd50-4c5f-ea32-b4ec2b3563c7",
        "colab": {
          "base_uri": "https://localhost:8080/"
        }
      },
      "execution_count": 33,
      "outputs": [
        {
          "output_type": "stream",
          "name": "stdout",
          "text": [
            "tensor([[-2.6323e+01, -2.2043e+01, -2.5815e+01, -1.6283e+01, -1.1452e+01,\n",
            "         -2.2503e+01, -3.8594e+01, -1.5411e+01, -1.7841e+01, -1.0967e-05]])\n"
          ]
        }
      ]
    },
    {
      "cell_type": "code",
      "source": [
        "#use argmax to check which number it predicted\n",
        "new_pred.argmax() # predicted number 9"
      ],
      "metadata": {
        "id": "A_vE8b06-6uk",
        "outputId": "1f8a3752-b833-4e70-ed1b-576a82fd414f",
        "colab": {
          "base_uri": "https://localhost:8080/"
        }
      },
      "execution_count": 34,
      "outputs": [
        {
          "output_type": "execute_result",
          "data": {
            "text/plain": [
              "tensor(9)"
            ]
          },
          "metadata": {},
          "execution_count": 34
        }
      ]
    },
    {
      "cell_type": "code",
      "source": [
        "with torch.no_grad():\n",
        "  new_pred=model(test_data[2709][0].view(1,1,28,28)) # batch size of 1 ,1 color channel, 28x28 image\n",
        "  print(new_pred.argmax())"
      ],
      "metadata": {
        "id": "Pv0z33d8_EWi",
        "outputId": "5c11f619-677d-4f44-d9d5-1861ff8a33a6",
        "colab": {
          "base_uri": "https://localhost:8080/"
        }
      },
      "execution_count": 38,
      "outputs": [
        {
          "output_type": "stream",
          "name": "stdout",
          "text": [
            "tensor(4)\n"
          ]
        }
      ]
    }
  ]
}