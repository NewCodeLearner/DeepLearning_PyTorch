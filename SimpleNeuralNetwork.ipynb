{
  "nbformat": 4,
  "nbformat_minor": 0,
  "metadata": {
    "colab": {
      "provenance": [],
      "authorship_tag": "ABX9TyM+4XKnh/tz7WjwD+uEmcr6",
      "include_colab_link": true
    },
    "kernelspec": {
      "name": "python3",
      "display_name": "Python 3"
    },
    "language_info": {
      "name": "python"
    }
  },
  "cells": [
    {
      "cell_type": "markdown",
      "metadata": {
        "id": "view-in-github",
        "colab_type": "text"
      },
      "source": [
        "<a href=\"https://colab.research.google.com/github/NewCodeLearner/DeepLearning_PyTorch/blob/main/SimpleNeuralNetwork.ipynb\" target=\"_parent\"><img src=\"https://colab.research.google.com/assets/colab-badge.svg\" alt=\"Open In Colab\"/></a>"
      ]
    },
    {
      "cell_type": "markdown",
      "source": [
        "Creating simple neural network"
      ],
      "metadata": {
        "id": "1XM6HKjpQTkG"
      }
    },
    {
      "cell_type": "code",
      "execution_count": 2,
      "metadata": {
        "id": "owQ3QVG8N71n"
      },
      "outputs": [],
      "source": [
        "import torch\n",
        "import torch.nn as nn\n",
        "import torch.functional as F"
      ]
    },
    {
      "cell_type": "code",
      "source": [
        "#create a model class that inherits the nn.module class\n",
        "\n",
        "class Model (nn.Module):\n",
        "    #input layer ( 4 features of the flower)\n",
        "    #hidden layer 1 (8 neurons)\n",
        "    #hidden layer 2 (8 neurons)\n",
        "    #output ( 3 classes of iris flower)\n",
        "\n",
        "    # we define the neural network inside the __init__ function\n",
        "    # and then we define forward method to link the layers output\n",
        "\n",
        "    def __init__(self,input_features=4,hidden_layer1=8,\n",
        "                 hidden_layer2=8,out_features=3):\n",
        "        super().__init__() #instantiate nn.module\n",
        "        self.fc1 = nn.Linear(input_features,hidden_layer1)\n",
        "        self.fc2 = nn.Linear(hidden_layer1,hidden_layer2)\n",
        "        self.out = nn.Linear(hidden_layer2,out_features)\n",
        "\n",
        "    #feed forward\n",
        "    def forward(self,x):\n",
        "        x=F.relu(self.fc1(x))\n",
        "        x=F.relu(self.fc2(x))\n",
        "        x=self.out(x)\n",
        "        return x\n",
        "\n",
        ""
      ],
      "metadata": {
        "id": "bW_7NlSBS7B5"
      },
      "execution_count": 14,
      "outputs": []
    },
    {
      "cell_type": "code",
      "source": [
        "#pick a manual seed for randomization\n",
        "torch.manual_seed(42)\n",
        "#create  instance of model\n",
        "\n",
        "model = Model()"
      ],
      "metadata": {
        "id": "j0UIsfVHX6C-"
      },
      "execution_count": 15,
      "outputs": []
    }
  ]
}