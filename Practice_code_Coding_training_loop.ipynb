{
  "nbformat": 4,
  "nbformat_minor": 0,
  "metadata": {
    "colab": {
      "provenance": [],
      "authorship_tag": "ABX9TyOmz6XY9FAkPk5zV37l5h9G",
      "include_colab_link": true
    },
    "kernelspec": {
      "name": "python3",
      "display_name": "Python 3"
    },
    "language_info": {
      "name": "python"
    }
  },
  "cells": [
    {
      "cell_type": "markdown",
      "metadata": {
        "id": "view-in-github",
        "colab_type": "text"
      },
      "source": [
        "<a href=\"https://colab.research.google.com/github/NewCodeLearner/DeepLearning_PyTorch/blob/main/Practice_code_Coding_training_loop.ipynb\" target=\"_parent\"><img src=\"https://colab.research.google.com/assets/colab-badge.svg\" alt=\"Open In Colab\"/></a>"
      ]
    },
    {
      "cell_type": "code",
      "execution_count": 24,
      "metadata": {
        "id": "qlDXtxegKGma"
      },
      "outputs": [],
      "source": [
        "import torch\n",
        "import torch.nn as nn"
      ]
    },
    {
      "cell_type": "code",
      "source": [
        "input = torch.tensor(torch.randn(5,6))\n",
        "output=torch.tensor([[0.],[1.],[1.],[0.],[1.]])\n",
        "output=torch.tensor([0.,1.,1.,0.,1.])\n",
        "print(input)\n",
        "print(input.shape)\n",
        "print(output)\n",
        "print(output.shape)"
      ],
      "metadata": {
        "colab": {
          "base_uri": "https://localhost:8080/"
        },
        "id": "8URZ85MAeW7t",
        "outputId": "1ff0cb9f-39c0-4b8e-b8f0-1436f5be86fe"
      },
      "execution_count": 113,
      "outputs": [
        {
          "output_type": "stream",
          "name": "stdout",
          "text": [
            "tensor([[ 0.9352,  0.3702, -1.2865, -0.5216, -1.8807, -0.6477],\n",
            "        [-0.5444,  0.8507, -0.0748, -0.1689, -0.5498, -0.2751],\n",
            "        [ 1.7076,  0.2814, -0.0114,  1.1252,  0.3200,  1.1909],\n",
            "        [-0.6162, -2.2882,  0.1140, -0.0088,  0.5143, -0.4072],\n",
            "        [-1.1180, -0.1707, -1.1787,  1.2191,  1.3420,  0.1821]])\n",
            "torch.Size([5, 6])\n",
            "tensor([0., 1., 1., 0., 1.])\n",
            "torch.Size([5])\n"
          ]
        },
        {
          "output_type": "stream",
          "name": "stderr",
          "text": [
            "<ipython-input-113-cc6a8ef6f8bf>:1: UserWarning: To copy construct from a tensor, it is recommended to use sourceTensor.clone().detach() or sourceTensor.clone().detach().requires_grad_(True), rather than torch.tensor(sourceTensor).\n",
            "  input = torch.tensor(torch.randn(5,6))\n"
          ]
        }
      ]
    },
    {
      "cell_type": "code",
      "source": [
        "import torch.nn as nn\n",
        "\n",
        "class modelname(nn.Module):\n",
        "  def __init__(self):\n",
        "    super().__init__()\n",
        "\n",
        "    self.model = nn.Sequential(\n",
        "        nn.Linear(6,10),\n",
        "        nn.ReLU(),\n",
        "        nn.Linear(10,1),\n",
        "        nn.Sigmoid()\n",
        "    )\n",
        "\n",
        "  def forward(self,x):\n",
        "    x=self.model(x)\n",
        "    return x\n",
        ""
      ],
      "metadata": {
        "id": "sc8mdXzFhP10"
      },
      "execution_count": 97,
      "outputs": []
    },
    {
      "cell_type": "code",
      "source": [
        "model = modelname()"
      ],
      "metadata": {
        "id": "J1LTTwW3ha73"
      },
      "execution_count": 98,
      "outputs": []
    },
    {
      "cell_type": "code",
      "source": [
        "logits = model(input)\n",
        "criterion = nn.BCELoss()\n",
        "loss =criterion(logits.squeeze(),output)\n",
        "\n",
        "print(loss.item())"
      ],
      "metadata": {
        "colab": {
          "base_uri": "https://localhost:8080/"
        },
        "id": "-1ZLzHtKj7i9",
        "outputId": "0bd99efd-96cc-4167-b48c-b7900fa2a2cf"
      },
      "execution_count": 115,
      "outputs": [
        {
          "output_type": "stream",
          "name": "stdout",
          "text": [
            "0.6551779508590698\n"
          ]
        }
      ]
    },
    {
      "cell_type": "code",
      "source": [
        "print(logits,output)"
      ],
      "metadata": {
        "colab": {
          "base_uri": "https://localhost:8080/"
        },
        "id": "YAI1xwyV0cQ2",
        "outputId": "07bd6736-6ae6-4717-d828-177f67eea607"
      },
      "execution_count": 110,
      "outputs": [
        {
          "output_type": "stream",
          "name": "stdout",
          "text": [
            "tensor([[0.5371],\n",
            "        [0.6095],\n",
            "        [0.5927],\n",
            "        [0.6132],\n",
            "        [0.5864]], grad_fn=<SigmoidBackward0>) tensor([[0.],\n",
            "        [1.],\n",
            "        [1.],\n",
            "        [0.],\n",
            "        [1.]])\n"
          ]
        }
      ]
    },
    {
      "cell_type": "code",
      "source": [
        "for param in model.named_parameters():\n",
        "  print(param)"
      ],
      "metadata": {
        "colab": {
          "base_uri": "https://localhost:8080/"
        },
        "id": "Rsp3Ke7BiUYT",
        "outputId": "94859a83-3470-49c6-cdc7-dc37357c458b"
      },
      "execution_count": 91,
      "outputs": [
        {
          "output_type": "stream",
          "name": "stdout",
          "text": [
            "('model.0.weight', Parameter containing:\n",
            "tensor([[-0.1742,  0.1902,  0.2793,  0.2192,  0.2925,  0.3639],\n",
            "        [ 0.3887,  0.0878,  0.1564,  0.2463,  0.2215,  0.0943],\n",
            "        [ 0.1140, -0.1383,  0.3747,  0.0128, -0.0695, -0.3870],\n",
            "        [ 0.3389,  0.1597,  0.0966, -0.1945,  0.0189,  0.1848],\n",
            "        [-0.0289, -0.1729, -0.4011, -0.2921, -0.1057,  0.1604],\n",
            "        [-0.0372, -0.3339, -0.3462, -0.0462, -0.1802,  0.3963],\n",
            "        [-0.1620, -0.2583,  0.0932, -0.2614,  0.3690,  0.3983],\n",
            "        [-0.3255,  0.3445,  0.3366,  0.3527,  0.1384, -0.2327],\n",
            "        [-0.0792, -0.2066,  0.3732, -0.2702, -0.2350, -0.3152],\n",
            "        [ 0.3022, -0.1362,  0.3492, -0.2830,  0.3857, -0.0867]],\n",
            "       requires_grad=True))\n",
            "('model.0.bias', Parameter containing:\n",
            "tensor([-0.3361, -0.0476, -0.0956, -0.1359, -0.2703, -0.0620, -0.2642,  0.0365,\n",
            "         0.0040,  0.3806], requires_grad=True))\n",
            "('model.2.weight', Parameter containing:\n",
            "tensor([[-0.2156,  0.0435,  0.1276,  0.2861, -0.0184, -0.0636,  0.0693,  0.2031,\n",
            "          0.0671,  0.1652]], requires_grad=True))\n",
            "('model.2.bias', Parameter containing:\n",
            "tensor([0.1217], requires_grad=True))\n"
          ]
        }
      ]
    },
    {
      "cell_type": "code",
      "source": [
        "for param in model.parameters():\n",
        "  print(param.numel)"
      ],
      "metadata": {
        "colab": {
          "base_uri": "https://localhost:8080/"
        },
        "id": "as3Z2qFai2eE",
        "outputId": "a548245b-3795-4867-decd-a72a4f3e0b93"
      },
      "execution_count": 100,
      "outputs": [
        {
          "output_type": "stream",
          "name": "stdout",
          "text": [
            "<built-in method numel of Parameter object at 0x7f0abd59dd90>\n",
            "<built-in method numel of Parameter object at 0x7f0abd59e210>\n",
            "<built-in method numel of Parameter object at 0x7f0abd59d850>\n",
            "<built-in method numel of Parameter object at 0x7f0abd59fa10>\n"
          ]
        }
      ]
    },
    {
      "cell_type": "code",
      "source": [
        "for idx, m in enumerate(model.modules()):\n",
        "    print(idx, '->', m)\n"
      ],
      "metadata": {
        "colab": {
          "base_uri": "https://localhost:8080/"
        },
        "id": "4HjxDGALqaaa",
        "outputId": "35c99c24-cb76-428e-f3b0-fd1b5f64f056"
      },
      "execution_count": 99,
      "outputs": [
        {
          "output_type": "stream",
          "name": "stdout",
          "text": [
            "0 -> modelname(\n",
            "  (model): Sequential(\n",
            "    (0): Linear(in_features=6, out_features=10, bias=True)\n",
            "    (1): ReLU()\n",
            "    (2): Linear(in_features=10, out_features=1, bias=True)\n",
            "    (3): Sigmoid()\n",
            "  )\n",
            ")\n",
            "1 -> Sequential(\n",
            "  (0): Linear(in_features=6, out_features=10, bias=True)\n",
            "  (1): ReLU()\n",
            "  (2): Linear(in_features=10, out_features=1, bias=True)\n",
            "  (3): Sigmoid()\n",
            ")\n",
            "2 -> Linear(in_features=6, out_features=10, bias=True)\n",
            "3 -> ReLU()\n",
            "4 -> Linear(in_features=10, out_features=1, bias=True)\n",
            "5 -> Sigmoid()\n"
          ]
        }
      ]
    },
    {
      "cell_type": "code",
      "source": [
        "optimizer = torch.optim.SGD(model.parameters(),lr=0.01)\n",
        "optimizer"
      ],
      "metadata": {
        "colab": {
          "base_uri": "https://localhost:8080/"
        },
        "id": "saC689AAyWlU",
        "outputId": "4cd4a74b-456a-4c72-b2cf-cd1d0c656abe"
      },
      "execution_count": 108,
      "outputs": [
        {
          "output_type": "execute_result",
          "data": {
            "text/plain": [
              "SGD (\n",
              "Parameter Group 0\n",
              "    dampening: 0\n",
              "    differentiable: False\n",
              "    foreach: None\n",
              "    fused: None\n",
              "    lr: 0.01\n",
              "    maximize: False\n",
              "    momentum: 0\n",
              "    nesterov: False\n",
              "    weight_decay: 0\n",
              ")"
            ]
          },
          "metadata": {},
          "execution_count": 108
        }
      ]
    },
    {
      "cell_type": "code",
      "source": [
        "# training loop\n",
        "\n",
        "epoch =20\n",
        "\n",
        "for i in range(epoch):\n",
        "  optimizer.zero_grad\n",
        "  logits=model(input)\n",
        "  loss = criterion(logits,output)\n",
        "  loss.backward()\n",
        "  optimizer.step()\n",
        "  print(loss.item())\n"
      ],
      "metadata": {
        "colab": {
          "base_uri": "https://localhost:8080/"
        },
        "id": "Cpq-dexV0nF6",
        "outputId": "58f80941-cb7c-48fa-af81-59cf71f83605"
      },
      "execution_count": 112,
      "outputs": [
        {
          "output_type": "stream",
          "name": "stdout",
          "text": [
            "0.6521462202072144\n",
            "0.6499055027961731\n",
            "0.6469607949256897\n",
            "0.6433464884757996\n",
            "0.6391022801399231\n",
            "0.6342476010322571\n",
            "0.628655731678009\n",
            "0.6225411295890808\n",
            "0.6159624457359314\n",
            "0.6089743971824646\n",
            "0.6016255617141724\n",
            "0.5939569473266602\n",
            "0.5860637426376343\n",
            "0.5781494975090027\n",
            "0.5700382590293884\n",
            "0.5616239309310913\n",
            "0.5529015064239502\n",
            "0.5438564419746399\n",
            "0.5341852307319641\n",
            "0.5239518880844116\n"
          ]
        }
      ]
    }
  ]
}